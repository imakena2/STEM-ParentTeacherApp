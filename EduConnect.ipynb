{
 "cells": [
  {
   "cell_type": "code",
   "execution_count": null,
   "id": "03ca96d6-1ad3-4e2d-b4e9-8522ad7a7e00",
   "metadata": {},
   "outputs": [
    {
     "name": "stdout",
     "output_type": "stream",
     "text": [
      "\n",
      "=== Welcome to EduConnect ===\n",
      "1. Login\n",
      "2. Register\n",
      "3. Exit\n"
     ]
    },
    {
     "name": "stdin",
     "output_type": "stream",
     "text": [
      "Choose (1-3):  2\n"
     ]
    },
    {
     "name": "stdout",
     "output_type": "stream",
     "text": [
      "\n",
      "--- Register New User ---\n"
     ]
    },
    {
     "name": "stdin",
     "output_type": "stream",
     "text": [
      "Choose a username:  idah\n",
      "Choose a password:  12345\n",
      "Register as 'parent' or 'teacher':  parent\n"
     ]
    },
    {
     "name": "stdout",
     "output_type": "stream",
     "text": [
      "✅ Registration successful! You are now registered as a parent.\n",
      "\n",
      "=== Welcome to EduConnect ===\n",
      "1. Login\n",
      "2. Register\n",
      "3. Exit\n"
     ]
    },
    {
     "name": "stdin",
     "output_type": "stream",
     "text": [
      "Choose (1-3):  2\n"
     ]
    },
    {
     "name": "stdout",
     "output_type": "stream",
     "text": [
      "\n",
      "--- Register New User ---\n"
     ]
    },
    {
     "name": "stdin",
     "output_type": "stream",
     "text": [
      "Choose a username:  makena\n",
      "Choose a password:  12345\n",
      "Register as 'parent' or 'teacher':  teacher\n"
     ]
    },
    {
     "name": "stdout",
     "output_type": "stream",
     "text": [
      "✅ Registration successful! You are now registered as a teacher.\n",
      "\n",
      "=== Welcome to EduConnect ===\n",
      "1. Login\n",
      "2. Register\n",
      "3. Exit\n"
     ]
    },
    {
     "name": "stdin",
     "output_type": "stream",
     "text": [
      "Choose (1-3):  1\n"
     ]
    },
    {
     "name": "stdout",
     "output_type": "stream",
     "text": [
      "\n",
      "--- User Login ---\n"
     ]
    },
    {
     "name": "stdin",
     "output_type": "stream",
     "text": [
      "Enter username:  idah\n",
      "Enter password:  12345\n"
     ]
    },
    {
     "name": "stdout",
     "output_type": "stream",
     "text": [
      "✅ Welcome Parent idah!\n",
      "\n",
      "=== EduConnect Main Menu (Parent idah) ===\n",
      "1. STEM Toolkit\n",
      "2. Parent-Teacher Communication\n",
      "3. Logout\n"
     ]
    },
    {
     "name": "stdin",
     "output_type": "stream",
     "text": [
      "Select an option (1-3):  3\n"
     ]
    },
    {
     "name": "stdout",
     "output_type": "stream",
     "text": [
      "👋 Logging out. Goodbye idah!\n",
      "\n",
      "=== Welcome to EduConnect ===\n",
      "1. Login\n",
      "2. Register\n",
      "3. Exit\n"
     ]
    },
    {
     "name": "stdin",
     "output_type": "stream",
     "text": [
      "Choose (1-3):  1\n"
     ]
    },
    {
     "name": "stdout",
     "output_type": "stream",
     "text": [
      "\n",
      "--- User Login ---\n"
     ]
    },
    {
     "name": "stdin",
     "output_type": "stream",
     "text": [
      "Enter username:  makena\n",
      "Enter password:  12345\n"
     ]
    },
    {
     "name": "stdout",
     "output_type": "stream",
     "text": [
      "✅ Welcome Teacher makena!\n",
      "\n",
      "=== EduConnect Main Menu (Teacher makena) ===\n",
      "1. STEM Toolkit\n",
      "2. Parent-Teacher Communication\n",
      "3. Logout\n"
     ]
    },
    {
     "name": "stdin",
     "output_type": "stream",
     "text": [
      "Select an option (1-3):  1\n"
     ]
    },
    {
     "name": "stdout",
     "output_type": "stream",
     "text": [
      "\n",
      "--- STEM Toolkit for makena ---\n",
      "1. Math Quiz\n",
      "2. Coding Challenge\n",
      "3. Logic Puzzle\n",
      "4. Back to Main Menu\n"
     ]
    },
    {
     "name": "stdin",
     "output_type": "stream",
     "text": [
      "Choose an activity (1-4):  4\n"
     ]
    },
    {
     "name": "stdout",
     "output_type": "stream",
     "text": [
      "\n",
      "=== EduConnect Main Menu (Teacher makena) ===\n",
      "1. STEM Toolkit\n",
      "2. Parent-Teacher Communication\n",
      "3. Logout\n"
     ]
    },
    {
     "name": "stdin",
     "output_type": "stream",
     "text": [
      "Select an option (1-3):  3\n"
     ]
    },
    {
     "name": "stdout",
     "output_type": "stream",
     "text": [
      "👋 Logging out. Goodbye makena!\n",
      "\n",
      "=== Welcome to EduConnect ===\n",
      "1. Login\n",
      "2. Register\n",
      "3. Exit\n"
     ]
    },
    {
     "name": "stdin",
     "output_type": "stream",
     "text": [
      "Choose (1-3):  1\n"
     ]
    },
    {
     "name": "stdout",
     "output_type": "stream",
     "text": [
      "\n",
      "--- User Login ---\n"
     ]
    },
    {
     "name": "stdin",
     "output_type": "stream",
     "text": [
      "Enter username:  grace\n",
      "Enter password:  12345\n"
     ]
    },
    {
     "name": "stdout",
     "output_type": "stream",
     "text": [
      "❌ Invalid username or password.\n",
      "\n",
      "=== Welcome to EduConnect ===\n",
      "1. Login\n",
      "2. Register\n",
      "3. Exit\n"
     ]
    },
    {
     "name": "stdin",
     "output_type": "stream",
     "text": [
      "Choose (1-3):  1\n"
     ]
    },
    {
     "name": "stdout",
     "output_type": "stream",
     "text": [
      "\n",
      "--- User Login ---\n"
     ]
    },
    {
     "name": "stdin",
     "output_type": "stream",
     "text": [
      "Enter username:  makena\n",
      "Enter password:  12345\n"
     ]
    },
    {
     "name": "stdout",
     "output_type": "stream",
     "text": [
      "✅ Welcome Teacher makena!\n",
      "\n",
      "=== EduConnect Main Menu (Teacher makena) ===\n",
      "1. STEM Toolkit\n",
      "2. Parent-Teacher Communication\n",
      "3. Logout\n"
     ]
    },
    {
     "name": "stdin",
     "output_type": "stream",
     "text": [
      "Select an option (1-3):  2\n"
     ]
    },
    {
     "name": "stdout",
     "output_type": "stream",
     "text": [
      "\n",
      "--- Parent-Teacher App (Teacher makena) ---\n",
      "1. Add Student\n",
      "2. Add Student Progress Update\n",
      "3. View Student Reports\n",
      "4. View Messages from Parents\n",
      "5. Back to Main Menu\n"
     ]
    }
   ],
   "source": [
    "import random\n",
    "\n",
    "# ---------- USER DATABASE ----------\n",
    "users = {}  # username: {'password': str, 'role': 'parent' or 'teacher'}\n",
    "students_data = {}  # student_name: {'age': int, 'details': str, 'report_card': []}\n",
    "\n",
    "# ---------- REGISTRATION & LOGIN ----------\n",
    "def register_user():\n",
    "    print(\"\\n--- Register New User ---\")\n",
    "    username = input(\"Choose a username: \")\n",
    "    if username in users:\n",
    "        print(\"⚠️ Username already exists. Try logging in.\")\n",
    "        return\n",
    "    password = input(\"Choose a password: \")\n",
    "    role = input(\"Register as 'parent' or 'teacher': \").strip().lower()\n",
    "    if role not in ['parent', 'teacher']:\n",
    "        print(\"❌ Invalid role. Must be 'parent' or 'teacher'.\")\n",
    "        return\n",
    "\n",
    "    users[username] = {'password': password, 'role': role}\n",
    "    if role == 'teacher':\n",
    "        students_data[username] = []  # Initialize empty list for students\n",
    "    print(f\"✅ Registration successful! You are now registered as a {role}.\")\n",
    "\n",
    "def login_user():\n",
    "    print(\"\\n--- User Login ---\")\n",
    "    username = input(\"Enter username: \")\n",
    "    password = input(\"Enter password: \")\n",
    "    user = users.get(username)\n",
    "\n",
    "    if user and user['password'] == password:\n",
    "        print(f\"✅ Welcome {user['role'].capitalize()} {username}!\")\n",
    "        return username\n",
    "    else:\n",
    "        print(\"❌ Invalid username or password.\")\n",
    "        return None\n",
    "\n",
    "# ---------- STEM TOOLKIT ----------\n",
    "def show_stem_menu(user_name):\n",
    "    print(f\"\\n--- STEM Toolkit for {user_name} ---\")\n",
    "    print(\"1. Math Quiz\")\n",
    "    print(\"2. Coding Challenge\")\n",
    "    print(\"3. Logic Puzzle\")\n",
    "    print(\"4. Back to Main Menu\")\n",
    "\n",
    "def math_quiz(user_name):\n",
    "    score = 0\n",
    "    for i in range(3):\n",
    "        a = random.randint(1, 10)\n",
    "        b = random.randint(1, 10)\n",
    "        try:\n",
    "            answer = int(input(f\"What is {a} + {b}? \"))\n",
    "        except ValueError:\n",
    "            print(\"⚠️ Enter a number.\")\n",
    "            continue\n",
    "        if answer == a + b:\n",
    "            print(\"✅ Correct!\")\n",
    "            score += 1\n",
    "        else:\n",
    "            print(f\"❌ Wrong. The correct answer was {a + b}\")\n",
    "    print(f\"{user_name}, your score: {score}/3\")\n",
    "\n",
    "def coding_challenge():\n",
    "    print(\"\\n--- Coding Challenge ---\")\n",
    "    print(\"What will this code print?\\nx = 5\\nx = x + 3\\nprint(x)\")\n",
    "    answer = input(\"Your answer: \")\n",
    "    if answer.strip() == \"8\":\n",
    "        print(\"✅ Correct!\")\n",
    "    else:\n",
    "        print(\"❌ Incorrect. The answer is 8.\")\n",
    "\n",
    "def logic_puzzle():\n",
    "    print(\"\\n--- Logic Puzzle ---\")\n",
    "    print(\"Riddle: I am an odd number. Take away one letter and I become even. What number am I?\")\n",
    "    answer = input(\"Your answer: \")\n",
    "    if answer.strip().lower() == \"seven\":\n",
    "        print(\"✅ Correct!\")\n",
    "    else:\n",
    "        print(\"❌ Incorrect. The answer is 'seven'.\")\n",
    "\n",
    "def run_stem_toolkit(user_name):\n",
    "    while True:\n",
    "        show_stem_menu(user_name)\n",
    "        choice = input(\"Choose an activity (1-4): \")\n",
    "        if choice == '1':\n",
    "            math_quiz(user_name)\n",
    "        elif choice == '2':\n",
    "            coding_challenge()\n",
    "        elif choice == '3':\n",
    "            logic_puzzle()\n",
    "        elif choice == '4':\n",
    "            break\n",
    "        else:\n",
    "            print(\"Invalid choice. Try again.\")\n",
    "\n",
    "# ---------- PARENT-TEACHER APP ----------\n",
    "messages = []\n",
    "progress_reports = {}\n",
    "\n",
    "def send_message(sender_username):\n",
    "    if users[sender_username]['role'] != 'parent':\n",
    "        print(\"❌ Only parents can send messages.\")\n",
    "        return\n",
    "\n",
    "    teacher_list = [u for u, info in users.items() if info['role'] == 'teacher']\n",
    "    if not teacher_list:\n",
    "        print(\"⚠️ No teachers registered yet.\")\n",
    "        return\n",
    "\n",
    "    print(\"Available teachers:\")\n",
    "    for t in teacher_list:\n",
    "        print(f\"👨‍🏫 {t}\")\n",
    "\n",
    "    recipient = input(\"Enter teacher username to message: \")\n",
    "    if recipient not in teacher_list:\n",
    "        print(\"❌ Invalid teacher username.\")\n",
    "        return\n",
    "\n",
    "    content = input(\"Type your message: \")\n",
    "    messages.append((sender_username, recipient, content))\n",
    "    print(\"📨 Message sent.\")\n",
    "\n",
    "def view_messages(user_name):\n",
    "    role = users[user_name]['role']\n",
    "    print(f\"\\n--- Messages for {role.capitalize()} {user_name} ---\")\n",
    "    for sender, recipient, msg in messages:\n",
    "        if role == 'teacher' and recipient == user_name:\n",
    "            print(f\"From Parent {sender}: {msg}\")\n",
    "        elif role == 'parent' and sender == user_name:\n",
    "            print(f\"To Teacher {recipient}: {msg}\")\n",
    "\n",
    "def add_student(user_name):\n",
    "    if users[user_name]['role'] != 'teacher':\n",
    "        print(\"❌ Only teachers can add students.\")\n",
    "        return\n",
    "\n",
    "    student_name = input(\"Enter student's name: \")\n",
    "    age = input(\"Enter student's age: \")\n",
    "    details = input(\"Enter details about the student: \")\n",
    "\n",
    "    if student_name in students_data:\n",
    "        print(\"⚠️ Student already exists.\")\n",
    "        return\n",
    "\n",
    "    students_data[student_name] = {\n",
    "        'age': age,\n",
    "        'details': details,\n",
    "        'report_card': []\n",
    "    }\n",
    "    print(f\"✅ Student {student_name} added successfully.\")\n",
    "\n",
    "def add_progress(user_name):\n",
    "    if users[user_name]['role'] != 'teacher':\n",
    "        print(\"❌ Only teachers can add progress updates.\")\n",
    "        return\n",
    "    student = input(\"Enter student's name: \")\n",
    "    if student not in students_data:\n",
    "        print(\"❌ Student not found.\")\n",
    "        return\n",
    "\n",
    "    report = input(\"Enter progress update: \")\n",
    "    students_data[student]['report_card'].append(report)\n",
    "    print(f\"✅ Progress for {student} updated.\")\n",
    "\n",
    "def view_student_reports(user_name):\n",
    "    if users[user_name]['role'] != 'teacher':\n",
    "        print(\"❌ Only teachers can view student reports.\")\n",
    "        return\n",
    "    print(\"\\n--- Student Reports ---\")\n",
    "    for student, data in students_data.items():\n",
    "        print(f\"\\nStudent: {student} (Age: {data['age']})\")\n",
    "        print(f\"Details: {data['details']}\")\n",
    "        print(\"Report Card:\")\n",
    "        for report in data['report_card']:\n",
    "            print(f\" - {report}\")\n",
    "\n",
    "def run_parent_teacher_app(user_name):\n",
    "    role = users[user_name]['role']\n",
    "    while True:\n",
    "        print(f\"\\n--- Parent-Teacher App ({role.capitalize()} {user_name}) ---\")\n",
    "        if role == 'parent':\n",
    "            print(\"1. Send Message to Teacher\")\n",
    "            print(\"2. View My Messages\")\n",
    "            print(\"3. View Student Progress\")\n",
    "            print(\"4. Back to Main Menu\")\n",
    "            choice = input(\"Choose option (1-4): \")\n",
    "            if choice == '1':\n",
    "                send_message(user_name)\n",
    "            elif choice == '2':\n",
    "                view_messages(user_name)\n",
    "            elif choice == '3':\n",
    "                view_progress(user_name)\n",
    "            elif choice == '4':\n",
    "                break\n",
    "            else:\n",
    "                print(\"Invalid choice.\")\n",
    "        elif role == 'teacher':\n",
    "            print(\"1. Add Student\")\n",
    "            print(\"2. Add Student Progress Update\")\n",
    "            print(\"3. View Student Reports\")\n",
    "            print(\"4. View Messages from Parents\")\n",
    "            print(\"5. Back to Main Menu\")\n",
    "            choice = input(\"Choose option (1-5): \")\n",
    "            if choice == '1':\n",
    "                add_student(user_name)\n",
    "            elif choice == '2':\n",
    "                add_progress(user_name)\n",
    "            elif choice == '3':\n",
    "                view_student_reports(user_name)\n",
    "            elif choice == '4':\n",
    "                view_messages(user_name)\n",
    "            elif choice == '5':\n",
    "                break\n",
    "            else:\n",
    "                print(\"Invalid choice.\")\n",
    "\n",
    "# ---------- MAIN PROGRAM ----------\n",
    "def main_menu(user_name):\n",
    "    role = users[user_name]['role']\n",
    "    while True:\n",
    "        print(f\"\\n=== EduConnect Main Menu ({role.capitalize()} {user_name}) ===\")\n",
    "        print(\"1. STEM Toolkit\")\n",
    "        print(\"2. Parent-Teacher Communication\")\n",
    "        print(\"3. Logout\")\n",
    "        choice = input(\"Select an option (1-3): \")\n",
    "        if choice == '1':\n",
    "            run_stem_toolkit(user_name)\n",
    "        elif choice == '2':\n",
    "            run_parent_teacher_app(user_name)\n",
    "        elif choice == '3':\n",
    "            print(f\"👋 Logging out. Goodbye {user_name}!\")\n",
    "            break\n",
    "        else:\n",
    "            print(\"Invalid choice.\")\n",
    "\n",
    "def run_program():\n",
    "    while True:\n",
    "        print(\"\\n=== Welcome to EduConnect ===\")\n",
    "        print(\"1. Login\")\n",
    "        print(\"2. Register\")\n",
    "        print(\"3. Exit\")\n",
    "        choice = input(\"Choose (1-3): \")\n",
    "        if choice == '1':\n",
    "            user = login_user()\n",
    "            if user:\n",
    "                main_menu(user)\n",
    "        elif choice == '2':\n",
    "            register_user()\n",
    "        elif choice == '3':\n",
    "            print(\"✅ Goodbye! Thanks for using EduConnect.\")\n",
    "            break\n",
    "        else:\n",
    "            print(\"Invalid input.\")\n",
    "\n",
    "# -------- RUN --------\n",
    "run_program()"
   ]
  },
  {
   "cell_type": "code",
   "execution_count": null,
   "id": "a0a8e516-23b2-46f2-a725-73dad672cc8a",
   "metadata": {},
   "outputs": [],
   "source": []
  }
 ],
 "metadata": {
  "kernelspec": {
   "display_name": "Python 3 (ipykernel)",
   "language": "python",
   "name": "python3"
  },
  "language_info": {
   "codemirror_mode": {
    "name": "ipython",
    "version": 3
   },
   "file_extension": ".py",
   "mimetype": "text/x-python",
   "name": "python",
   "nbconvert_exporter": "python",
   "pygments_lexer": "ipython3",
   "version": "3.12.4"
  }
 },
 "nbformat": 4,
 "nbformat_minor": 5
}
